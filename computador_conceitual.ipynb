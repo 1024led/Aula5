{
 "cells": [
  {
   "cell_type": "code",
   "execution_count": 0,
   "metadata": {
    "collapsed": false
   },
   "outputs": [
   ],
   "source": [
   ]
  },
  {
   "cell_type": "code",
   "execution_count": 1,
   "metadata": {
    "collapsed": false
   },
   "outputs": [
   ],
   "source": [
    "from IPython.display import Image\n",
    "from IPython.display import HTML\n",
    "import matplotlib.pyplot as plt\n",
    "import numpy as np\n",
    "import numpy.random as npr\n",
    "import math\n",
    "\n",
    "from random import *\n"
   ]
  },
  {
   "cell_type": "code",
   "execution_count": 22,
   "metadata": {
    "collapsed": false
   },
   "outputs": [
    {
     "name": "stdout",
     "output_type": "stream",
     "text": [
      "ponto(numero, base, digitos na matissa, menor grau, mior grau)\n"
     ]
    }
   ],
   "source": [
    "#ESCREVER --> ponto(numero, base, digitos na matissa, maior grau, menor grau)\n",
    "print(\"ponto(numero, base, digitos na matissa, menor grau, mior grau)\")\n",
    "def ponto (n, b, t, eP, eL):\n",
    "    mini =  0.1 * (b ** eL)\n",
    "    #print(\"Minimo = \", mini)\n",
    "\n",
    "    div = 10\n",
    "    res = 0\n",
    "    if (n < 0):\n",
    "        num = n * -1\n",
    "    else:\n",
    "        num = n\n",
    "        \n",
    "    count = 0\n",
    "    \n",
    "    for i in range(t):\n",
    "        res = res + 9/div\n",
    "        div = div * 10\n",
    "\n",
    "    maxi = res * (b ** eP)\n",
    "    #print(\"Maximo = \", maxi)\n",
    "\n",
    "    if (num > maxi):\n",
    "        print(\"OVERFLOW\")\n",
    "        return\n",
    "\n",
    "    if (num < mini):\n",
    "        print(\"UNDERFLOW\")\n",
    "        return\n",
    "\n",
    "\n",
    "    \n",
    "    if (num >= 1):\n",
    "        while(num >= 1):\n",
    "            count = count + 1\n",
    "            num = num/10\n",
    "    else:\n",
    "        while(num >= 1):\n",
    "            count = count - 1\n",
    "            num = num*10\n",
    "  \n",
    "    if(n > 0):\n",
    "        print(\"REPRESENTACAO: \", round(num, t), \"x\", b, \"^\", count)\n",
    "        a = [round(num, t), b, count]\n",
    "        return a\n",
    "    else:\n",
    "        print(\"REPRESENTACAO: \", 1+(round(num, t)), \"x\", b, \"^\", count)\n",
    "        a = [1+(round(num, t)), b, count]\n",
    "        return a"
   ]
  },
  {
   "cell_type": "code",
   "execution_count": 82,
   "metadata": {
    "collapsed": false
   },
   "outputs": [
   ],
   "source": [
    "def desponto(obj):\n",
    "    num = float(obj[0])\n",
    "    signal = int(obj[0])\n",
    "    nume = num % 1\n",
    "    base = obj[1]\n",
    "    exp = obj[2]\n",
    "    \n",
    "    if (signal == 1):\n",
    "        resultado = (-1) * nume * (base ** exp)\n",
    "    else:\n",
    "        resultado = nume * (base ** exp)\n",
    "        \n",
    "        \n",
    "    #print(resultado)\n",
    "    return(resultado)\n",
    "    \n",
    "    "
   ]
  },
  {
   "cell_type": "code",
   "execution_count": 4,
   "metadata": {
    "collapsed": false
   },
   "outputs": [
   ],
   "source": [
    "def aleatorio(mini, maxi):\n",
    "    b = uniform(mini, maxi)\n",
    "    a = randrange(-1, 1)\n",
    "\n",
    "    if (a == -1):\n",
    "        sing = -1\n",
    "    else:\n",
    "        sing = 1\n",
    "\n",
    "    total = sing*b\n",
    "    return total"
   ]
  },
  {
   "cell_type": "code",
   "execution_count": 85,
   "metadata": {
    "collapsed": false
   },
   "outputs": [
   ],
   "source": [
    "def comp_conc():\n",
    "    #ESCREVER --> ponto(numero, base, digitos na matissa, maior grau, menor grau)\n",
    "    base = 10\n",
    "    dig = 3\n",
    "    maior = 3\n",
    "    menor = -3\n",
    "    \n",
    "    div = 10\n",
    "    res = 0\n",
    "    \n",
    "    #CALCULO MINIMO\n",
    "    mini =  0.1 * (base ** menor)\n",
    "    print(\"Minimo = \", mini)\n",
    "    \n",
    "    \n",
    "    #CALCULO MAXIMO\n",
    "    for i in range(dig):\n",
    "        res = res + 9/div\n",
    "        div = div * 10\n",
    "\n",
    "    maxi = res * (base ** maior)\n",
    "    print(\"Maximo = \", maxi)\n",
    "    \n",
    "    x = aleatorio(mini, maxi)\n",
    "    y = aleatorio(mini, maxi)\n",
    "    z = aleatorio(mini, maxi)\n",
    "    t = aleatorio(mini, maxi)\n",
    "    \n",
    "    print(x, y, z, t)\n",
    "    \n",
    "    print(\"Restltado original de (x + y)*z - t = \", (x + y)*z - t)\n",
    "    #ESCREVER --> ponto(numero, base, digitos na matissa, maior grau, menor grau)\n",
    "    \n",
    "    xteste = ponto(x, base, dig, maior, menor)\n",
    "    yteste = ponto(y, base, dig, maior, menor)\n",
    "    zteste = ponto(z, base, dig, maior, menor)\n",
    "    tteste = ponto(t, base, dig, maior, menor)\n",
    "    \n",
    "    #print(desponto(xteste))\n",
    "    #print(desponto(yteste))\n",
    "    #print(desponto(zteste))\n",
    "    #print(desponto(tteste))\n",
    "    \n",
    "    x1 = desponto(xteste)\n",
    "    y1 = desponto(yteste)\n",
    "    z1 = desponto(zteste)\n",
    "    t1 = desponto(tteste)\n",
    "    \n",
    "    \n",
    "    print(\"Restltado convertido de (x + y)*z - t = \", (x1 + y1)*z1 - t1)\n",
    "    "
   ]
  },
  {
   "cell_type": "code",
   "execution_count": 90,
   "metadata": {
    "collapsed": false
   },
   "outputs": [
    {
     "name": "stdout",
     "output_type": "stream",
     "text": [
      "('Minimo = ', 0.000100000000000000)\n",
      "('Maximo = ', 999)\n",
      "(-681.189266832727, -497.990447186455, -500.789886144964, 632.744064635494)\n",
      "('Restltado original de (x + y)*z - t = ', 589888.530663482)\n",
      "('REPRESENTACAO: ', 1.681, 'x', 10, '^', 3)\n",
      "('REPRESENTACAO: ', 1.498, 'x', 10, '^', 3)\n",
      "('REPRESENTACAO: ', 1.501, 'x', 10, '^', 3)\n",
      "('REPRESENTACAO: ', 0.633, 'x', 10, '^', 3)\n",
      "('Restltado convertido de (x + y)*z - t = ', 590045.9999999999)\n"
     ]
    }
   ],
   "source": [
    "comp_conc()"
   ]
  },
  {
   "cell_type": "code",
   "execution_count": 0,
   "metadata": {
    "collapsed": false
   },
   "outputs": [
   ],
   "source": [
   ]
  }
 ],
 "metadata": {
  "kernelspec": {
   "display_name": "SageMath (stable)",
   "name": "sagemath"
  },
  "language_info": {
   "codemirror_mode": {
    "name": "ipython",
    "version": 2
   },
   "file_extension": ".py",
   "mimetype": "text/x-python",
   "name": "python",
   "nbconvert_exporter": "python",
   "pygments_lexer": "ipython2",
   "version": "2.7.15"
  }
 },
 "nbformat": 4,
 "nbformat_minor": 0
}